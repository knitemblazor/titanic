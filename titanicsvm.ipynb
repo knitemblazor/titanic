{
 "cells": [
  {
   "cell_type": "code",
   "execution_count": 1,
   "metadata": {},
   "outputs": [],
   "source": [
    "import numpy as np\n",
    "import matplotlib.pyplot as plt\n",
    "import math\n",
    "import pandas as pd"
   ]
  },
  {
   "cell_type": "code",
   "execution_count": 2,
   "metadata": {},
   "outputs": [
    {
     "name": "stdout",
     "output_type": "stream",
     "text": [
      "[[  0   0   0   0   0]\n",
      " [  1   1   1   1   1]\n",
      " [  2   2   0   1   1]\n",
      " ...\n",
      " [ 18 185   1   1   1]\n",
      " [  2 185   1   0   1]\n",
      " [ 34  65   0   0   0]]\n"
     ]
    }
   ],
   "source": [
    "M= pd.read_csv(\"train.csv\")\n",
    "df = pd.DataFrame(M)\n",
    "df = df[np.isfinite(df['Age'])]\n",
    "df = df[np.isfinite(df['Fare'])]\n",
    "columns_for_differencing = ['PassengerId','Name','Cabin','Embarked','Parch','SibSp','Ticket']\n",
    "X_train = df.copy()[df.columns.difference(columns_for_differencing)]\n",
    "X_train = X_train.apply(lambda sex: pd.factorize(sex, sort=False)[0])\n",
    "X_traind = X_train[X_train.Survived == 0]\n",
    "X_trains = X_train[X_train.Survived == 1]\n",
    "X_traind = X_traind.values\n",
    "X_trains = X_trains.values\n",
    "X_train = X_train.values\n",
    "print(X_train)"
   ]
  },
  {
   "cell_type": "code",
   "execution_count": 3,
   "metadata": {},
   "outputs": [
    {
     "name": "stdout",
     "output_type": "stream",
     "text": [
      "714\n"
     ]
    }
   ],
   "source": [
    "l=X_train[:,0:4]\n",
    "n=len(l[:,1])\n",
    "print(n)"
   ]
  },
  {
   "cell_type": "code",
   "execution_count": 4,
   "metadata": {},
   "outputs": [
    {
     "data": {
      "text/plain": [
       "714"
      ]
     },
     "execution_count": 4,
     "metadata": {},
     "output_type": "execute_result"
    }
   ],
   "source": [
    "a= []\n",
    "sigma = 0.2\n",
    "# print(l[:,1])\n",
    "n=len(l[:,1])\n",
    "A = np.array([[0.00] * n] *n)\n",
    "W = np.array([[0.00] * n] *n)\n",
    "theta=np.linspace(0,10,n)\n",
    "theta=np.array(theta)\n",
    "\n",
    "for i in range(n):\n",
    "    a.append(0)\n",
    "\n",
    "len(theta)"
   ]
  },
  {
   "cell_type": "code",
   "execution_count": 5,
   "metadata": {},
   "outputs": [
    {
     "data": {
      "text/plain": [
       "954.3989846553507"
      ]
     },
     "execution_count": 5,
     "metadata": {},
     "output_type": "execute_result"
    }
   ],
   "source": [
    "def similarity(x,l,n):\n",
    "    for i in range(0,n):\n",
    "        a[i]=(np.exp(-(np.sqrt(np.sum((x-l[i,])**2)))/2*sigma**2))\n",
    "    return(a)\n",
    "\n",
    "for i in range(0,n):\n",
    "    A[i,]=similarity(l[i,],l,n)\n",
    "\n",
    "def dot_product(theta,A,m):\n",
    "    return((theta@A[m,]))\n",
    "dot_product(theta,A,2)"
   ]
  },
  {
   "cell_type": "code",
   "execution_count": 6,
   "metadata": {},
   "outputs": [],
   "source": [
    "C=100\n",
    "g = np.array([0.00] * n)\n",
    "\n",
    "def dcost(theta,A,X_train,m):\n",
    "    g1=(-X_train[m,4]*(A[m,]/(np.exp(-theta@A[m,])-1)))\n",
    "    g2=(1-X_train[m,4])*(-1)*A[m,]*(1/(1+np.exp(-theta@A[m,])))\n",
    "    return(C*(g1+g2)+theta)\n",
    "#dcost(theta,A,X_train,89)"
   ]
  },
  {
   "cell_type": "code",
   "execution_count": 12,
   "metadata": {},
   "outputs": [],
   "source": [
    "def gd():\n",
    "    w = np.array([0.00] * n)\n",
    "    for j in range(0,n):\n",
    "        dw = np.array([0.00] * n)\n",
    "        for i in range(0,n):\n",
    "            d1 = dcost(theta,A,X_train,i)\n",
    "            dw = (d1+dw)/n\n",
    "            \n",
    "        w=w-0.1*dw\n",
    "    return(w)\n",
    "Q=gd()"
   ]
  },
  {
   "cell_type": "code",
   "execution_count": 8,
   "metadata": {},
   "outputs": [],
   "source": [
    "M1= pd.read_csv(\"test.csv\")\n",
    "df = pd.DataFrame(M1)\n",
    "df = df[np.isfinite(df['Age'])]\n",
    "df = df[np.isfinite(df['Fare'])]\n",
    "columns_for_differencing = ['PassengerId','Name','Cabin','Embarked','Parch','SibSp','Ticket']\n",
    "X_test = df.copy()[df.columns.difference(columns_for_differencing)]\n",
    "X_test = X_test.apply(lambda sex: pd.factorize(sex, sort=False)[0])\n",
    "X_test = X_test.values\n",
    "# print(X_test)"
   ]
  },
  {
   "cell_type": "code",
   "execution_count": 19,
   "metadata": {},
   "outputs": [],
   "source": [
    "l1=X_test\n",
    "# print(l1)\n",
    "m=len(X_test)\n",
    "A1= np.array([[0.00] * m] *m)\n",
    "def similarity2(x,l,n):\n",
    "    for i in range(0,n):\n",
    "        b=(np.exp(-(np.sqrt(np.sum((x-l[i,])**2)))/2*sigma**2))\n",
    "    return(b)\n",
    "\n",
    "for i in range(0,m):\n",
    "    A1[i,]=similarity2(l1[i,],l1,m)\n",
    "# print(A1)"
   ]
  },
  {
   "cell_type": "code",
   "execution_count": 21,
   "metadata": {},
   "outputs": [
    {
     "name": "stdout",
     "output_type": "stream",
     "text": [
      "714\n",
      "331\n"
     ]
    }
   ],
   "source": [
    "print(len(Q))\n",
    "print(len(A1))\n"
   ]
  }
 ],
 "metadata": {
  "kernelspec": {
   "display_name": "Python 3",
   "language": "python",
   "name": "python3"
  },
  "language_info": {
   "codemirror_mode": {
    "name": "ipython",
    "version": 3
   },
   "file_extension": ".py",
   "mimetype": "text/x-python",
   "name": "python",
   "nbconvert_exporter": "python",
   "pygments_lexer": "ipython3",
   "version": "3.6.6"
  }
 },
 "nbformat": 4,
 "nbformat_minor": 2
}
