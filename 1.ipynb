{
 "cells": [
  {
   "cell_type": "code",
   "execution_count": 2,
   "metadata": {},
   "outputs": [],
   "source": [
    "import numpy as np\n",
    "import matplotlib.pyplot as plt\n",
    "import math\n",
    "import pandas as pd\n",
    "from mpl_toolkits.mplot3d import Axes3D"
   ]
  },
  {
   "cell_type": "code",
   "execution_count": 18,
   "metadata": {
    "scrolled": false
   },
   "outputs": [],
   "source": [
    "M= pd.read_csv(\"train.csv\")\n",
    "\n",
    "df = pd.DataFrame(M)\n",
    "\n",
    "df = df[np.isfinite(df['Age'])]\n",
    "df = df[np.isfinite(df['Fare'])]\n",
    "columns_for_differencing = ['PassengerId','Name','Ticket','Cabin','Embarked']\n",
    "X_train= df.copy()[df.columns.difference(columns_for_differencing)]\n",
    "\n",
    "X_train=X_train.apply(lambda sex: pd.factorize(sex, sort=False)[0])\n",
    "X_traind=X_train[X_train.Survived == 0]\n",
    "X_trains=X_train[X_train.Survived == 1]\n",
    "X_traind=X_traind.values\n",
    "\n",
    "X_trains=X_trains.values\n",
    "X_train=X_train.values\n"
   ]
  },
  {
   "cell_type": "code",
   "execution_count": 29,
   "metadata": {},
   "outputs": [],
   "source": [
    "def hist(n):\n",
    "    a,b,c=plt.hist(X_train[:,n],color='green') #indicates that lower class passengers were more\n",
    "    x,y,z=plt.hist(X_trains[:,n])\n",
    "    counts, bins, bars=a,b,c\n",
    "    print(a,b,c)\n",
    "    print(x,y,z)\n",
    "\n",
    "    "
   ]
  },
  {
   "cell_type": "code",
   "execution_count": null,
   "metadata": {},
   "outputs": [],
   "source": [
    "def probability(n):\n",
    "    hist(n)\n",
    "    probab=(1/4)*"
   ]
  },
  {
   "cell_type": "code",
   "execution_count": 30,
   "metadata": {},
   "outputs": [
    {
     "name": "stdout",
     "output_type": "stream",
     "text": [
      "[200. 100.  96.  67.  59.  52.  37.  41.  34.  28.] [  0.   21.9  43.8  65.7  87.6 109.5 131.4 153.3 175.2 197.1 219. ] <a list of 10 Patch objects>\n",
      "[73. 29. 23. 19. 26. 29. 31. 21. 23. 16.] [  0.   21.5  43.   64.5  86.  107.5 129.  150.5 172.  193.5 215. ] <a list of 10 Patch objects>\n"
     ]
    },
    {
     "data": {
      "image/png": "[encoded data removed]",
      "text/plain": [
       "<Figure size 432x288 with 1 Axes>"
      ]
     },
     "metadata": {},
     "output_type": "display_data"
    }
   ],
   "source": [
    "hist(1)\n"
   ]
  },
  {
   "cell_type": "code",
   "execution_count": 31,
   "metadata": {},
   "outputs": [
    {
     "name": "stdout",
     "output_type": "stream",
     "text": [
      "[521. 110.   0.  68.   0.   5.   5.   0.   4.   1.] [0.  0.6 1.2 1.8 2.4 3.  3.6 4.2 4.8 5.4 6. ] <a list of 10 Patch objects>\n",
      "[186.   0.  61.   0.   0.  39.   0.   1.   0.   3.] [0.  0.4 0.8 1.2 1.6 2.  2.4 2.8 3.2 3.6 4. ] <a list of 10 Patch objects>\n"
     ]
    },
    {
     "data": {
      "image/png": "[encoded data removed]",
      "text/plain": [
       "<Figure size 432x288 with 1 Axes>"
      ]
     },
     "metadata": {},
     "output_type": "display_data"
    }
   ],
   "source": [
    "hist(2)\n"
   ]
  },
  {
   "cell_type": "code",
   "execution_count": 32,
   "metadata": {},
   "outputs": [
    {
     "name": "stdout",
     "output_type": "stream",
     "text": [
      "[355.   0.   0.   0.   0. 186.   0.   0.   0. 173.] [0.  0.2 0.4 0.6 0.8 1.  1.2 1.4 1.6 1.8 2. ] <a list of 10 Patch objects>\n",
      "[ 85.   0.   0.   0.   0. 122.   0.   0.   0.  83.] [0.  0.2 0.4 0.6 0.8 1.  1.2 1.4 1.6 1.8 2. ] <a list of 10 Patch objects>\n"
     ]
    },
    {
     "data": {
      "image/png": "[encoded data removed]",
      "text/plain": [
       "<Figure size 432x288 with 1 Axes>"
      ]
     },
     "metadata": {},
     "output_type": "display_data"
    }
   ],
   "source": [
    "hist(3)\n"
   ]
  },
  {
   "cell_type": "code",
   "execution_count": 34,
   "metadata": {},
   "outputs": [
    {
     "name": "stdout",
     "output_type": "stream",
     "text": [
      "[453.   0.   0.   0.   0.   0.   0.   0.   0. 261.] [0.  0.1 0.2 0.3 0.4 0.5 0.6 0.7 0.8 0.9 1. ] <a list of 10 Patch objects>\n",
      "[ 93.   0.   0.   0.   0.   0.   0.   0.   0. 197.] [0.  0.1 0.2 0.3 0.4 0.5 0.6 0.7 0.8 0.9 1. ] <a list of 10 Patch objects>\n"
     ]
    },
    {
     "data": {
      "image/png": "[encoded data removed]",
      "text/plain": [
       "<Figure size 432x288 with 1 Axes>"
      ]
     },
     "metadata": {},
     "output_type": "display_data"
    }
   ],
   "source": [
    "hist(4)\n"
   ]
  },
  {
   "cell_type": "code",
   "execution_count": null,
   "metadata": {},
   "outputs": [],
   "source": [
    "n=6\n",
    "X_traind1=X_traind[:,0:n]\n",
    "X_trains1=X_trains[:,0:n]\n",
    "\n",
    "\n",
    "# print(len(X_traind1))\n",
    "c = np.array([[0.00] * n] *714)\n",
    "v = np.array([[0.0000]*n]*3)\n",
    "\n",
    "\n",
    "\n",
    "for i in range(0,290):\n",
    "    for j in range(n):\n",
    "        c[i][j]=X_trains1[i][j]\n",
    "\n",
    "for i in range(290,714):\n",
    "    for j in range(n):\n",
    "        c[i][j]=X_traind1[i-290][j]\n",
    "\n",
    "print(c)   \n",
    "c=c.transpose()\n",
    "Mcov=np.cov(c)\n",
    "#print(\"\\ncovariance of given matrix: \\n\",Mcov,\"\\n\")\n",
    "E,V=np.linalg.eig(Mcov)#E=eigen value,V=eigen vector\n",
    "#print(\"eigen values are: \\n\",E,\"\\n\")\n",
    "#print(\"eigen vectors are: \\n\",V,\"\\n\")\n",
    "V=V.transpose()\n",
    "for i in range(3):\n",
    "    for j in range(n):\n",
    "        v[i][j]=V[i][j]\n",
    "#print(\"one vector chosen for PCA:\\n\",v,\"\\n\")\n",
    "M2=np.matmul(v,c)\n",
    "M2=M2.transpose()\n",
    "print(M2)"
   ]
  },
  {
   "cell_type": "code",
   "execution_count": null,
   "metadata": {},
   "outputs": [],
   "source": [
    "fig = plt.figure()\n",
    "ax = fig.add_subplot(111, projection='3d')\n",
    "ax.scatter(M2[0:290,0],M2[0:290,1],M2[0:290,2])\n",
    "ax.scatter(M2[290:714,0],M2[290:714,1],M2[290:714,2])\n",
    "plt.show()"
   ]
  }
 ],
 "metadata": {
  "kernelspec": {
   "display_name": "Python 3",
   "language": "python",
   "name": "python3"
  },
  "language_info": {
   "codemirror_mode": {
    "name": "ipython",
    "version": 3
   },
   "file_extension": ".py",
   "mimetype": "text/x-python",
   "name": "python",
   "nbconvert_exporter": "python",
   "pygments_lexer": "ipython3",
   "version": "3.6.5"
  }
 },
 "nbformat": 4,
 "nbformat_minor": 2
}
