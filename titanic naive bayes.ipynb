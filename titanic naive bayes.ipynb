{
 "cells": [
  {
   "cell_type": "code",
   "execution_count": 1,
   "metadata": {},
   "outputs": [],
   "source": [
    "import numpy as np\n",
    "import matplotlib.pyplot as plt\n",
    "import math\n",
    "import pandas as pd\n",
    "from mpl_toolkits.mplot3d import Axes3D"
   ]
  },
  {
   "cell_type": "code",
   "execution_count": 2,
   "metadata": {
    "scrolled": false
   },
   "outputs": [],
   "source": [
    "M= pd.read_csv(\"train.csv\")\n",
    "\n",
    "df = pd.DataFrame(M)\n",
    "\n",
    "df = df[np.isfinite(df['Age'])]\n",
    "df = df[np.isfinite(df['Fare'])]\n",
    "columns_for_differencing = ['PassengerId','Name','Ticket','Cabin','Embarked','Parch','SibSp','Pclass']\n",
    "X_train= df.copy()[df.columns.difference(columns_for_differencing)]\n",
    "\n",
    "X_train=X_train.apply(lambda sex: pd.factorize(sex, sort=False)[0])\n",
    "\n",
    "X_traind=X_train[X_train.Survived == 0]\n",
    "X_trains=X_train[X_train.Survived == 1]\n",
    "X_traind=X_traind.values\n",
    "\n",
    "X_trains=X_trains.values\n",
    "X_train=X_train.values\n"
   ]
  },
  {
   "cell_type": "code",
   "execution_count": 3,
   "metadata": {},
   "outputs": [
    {
     "name": "stdout",
     "output_type": "stream",
     "text": [
      "418\n"
     ]
    }
   ],
   "source": [
    "S= pd.read_csv(\"test.csv\")\n",
    "\n",
    "df1 = pd.DataFrame(S)\n",
    "\n",
    "#df1 = df1[np.isfinite(df1['Age'])]\n",
    "#df1 = df1[np.isfinite(df1['Fare'])]\n",
    "columns_for_differencing = ['PassengerId','Name','Ticket','Cabin','Embarked','Parch','SibSp','Pclass']\n",
    "X_test= df1.copy()[df1.columns.difference(columns_for_differencing)]\n",
    "\n",
    "X_test=X_test.apply(lambda sex: pd.factorize(sex, sort=False)[0])\n",
    "\n",
    "X_test=X_test.values\n",
    "print(len(X_test))"
   ]
  },
  {
   "cell_type": "code",
   "execution_count": 4,
   "metadata": {},
   "outputs": [],
   "source": [
    "def hist(n):\n",
    "    a,b,c=plt.hist(X_train[:,n],color='green') \n",
    "    x,y,z=plt.hist(X_trains[:,n])\n",
    "    counts, bins, bars=a,b,c\n",
    "    a=np.array(a)\n",
    "    b=np.array(b)\n",
    "    x=np.array(x)\n",
    "    y=np.array(y)\n",
    "    \n",
    "\n",
    "    "
   ]
  },
  {
   "cell_type": "code",
   "execution_count": 5,
   "metadata": {},
   "outputs": [],
   "source": [
    "def mean(x):\n",
    "    mean=sum(x)/len(x)\n",
    "    return mean\n",
    "\n",
    "def std(x):\n",
    "    std=(sum((x-mean(x))**2))/len(x)\n",
    "    std=np.sqrt(std)\n",
    "    return(std)\n",
    "\n",
    "def probability(xi,x):\n",
    "    y=np.exp(-((xi-mean(x))**2)/(2*std(x)**2))/(std(x)*np.sqrt(2*np.pi))\n",
    "    return y\n"
   ]
  },
  {
   "cell_type": "code",
   "execution_count": 6,
   "metadata": {},
   "outputs": [],
   "source": [
    "def calcs(n):\n",
    "    red=[]\n",
    "    for i in range(len(X_test)):\n",
    "        red.append(probability(X_test[i,n],X_trains[:,n]))\n",
    "    return red\n"
   ]
  },
  {
   "cell_type": "code",
   "execution_count": 7,
   "metadata": {},
   "outputs": [],
   "source": [
    "def calcd(n):\n",
    "    red=[]\n",
    "    for i in range(len(X_test)):\n",
    "        red.append(probability(X_test[i,n],X_traind[:,n]))\n",
    "    return red"
   ]
  },
  {
   "cell_type": "code",
   "execution_count": 8,
   "metadata": {},
   "outputs": [
    {
     "name": "stdout",
     "output_type": "stream",
     "text": [
      "418\n"
     ]
    },
    {
     "data": {
      "image/png": "[encoded data removed]",
      "text/plain": [
       "<Figure size 432x288 with 1 Axes>"
      ]
     },
     "metadata": {},
     "output_type": "display_data"
    }
   ],
   "source": [
    "A=[]\n",
    "B=[]\n",
    "C=[]\n",
    "a=calcd(0)\n",
    "b=calcd(1)\n",
    "c=calcd(2)\n",
    "d=calcs(0)\n",
    "e=calcs(1)\n",
    "f=calcs(2)\n",
    "\n",
    "for i in range(len(X_test)):\n",
    "    A.append(a[i]*b[i]*c[i])\n",
    "\n",
    "for i in range(len(X_test)):\n",
    "    B.append(d[i]*e[i]*f[i])\n",
    "\n",
    "for i in range(len(X_test)):\n",
    "    if(A[i]>B[i]):\n",
    "        C.append(0)\n",
    "    else:\n",
    "        C.append(1)\n",
    "print (len(C)) \n",
    "C=np.round(C,1)\n",
    "plt.hist(C)\n",
    "a = np.asarray(C)\n",
    "np.savetxt(\"gender_submission.csv\", a, delimiter=\",\")"
   ]
  }
 ],
 "metadata": {
  "kernelspec": {
   "display_name": "Python 3",
   "language": "python",
   "name": "python3"
  },
  "language_info": {
   "codemirror_mode": {
    "name": "ipython",
    "version": 3
   },
   "file_extension": ".py",
   "mimetype": "text/x-python",
   "name": "python",
   "nbconvert_exporter": "python",
   "pygments_lexer": "ipython3",
   "version": "3.6.5"
  }
 },
 "nbformat": 4,
 "nbformat_minor": 2
}
